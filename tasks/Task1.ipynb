{
 "cells": [
  {
   "cell_type": "markdown",
   "id": "1bcbd8d7",
   "metadata": {},
   "source": [
    "# Группа БВТ2005, Захаров М.Ю."
   ]
  },
  {
   "cell_type": "markdown",
   "id": "6a7b146a",
   "metadata": {},
   "source": [
    "Массив A состоит из целых положительных чисел - длин отрезков. Составьте из трех отрезков такой треугольник, чтобы его периметр был максимально возможным. Если невозможно составить треугольник с положительной площадью - функция возвращает 0."
   ]
  },
  {
   "cell_type": "code",
   "execution_count": 1,
   "id": "67c07eaa",
   "metadata": {},
   "outputs": [
    {
     "name": "stdout",
     "output_type": "stream",
     "text": [
      "5\n",
      "[11, 10, 11, 10, 6]\n",
      "([11, 11, 10], 32)\n"
     ]
    }
   ],
   "source": [
    "from random import randint\n",
    "def maxTriangle(array): \n",
    "    array.sort()\n",
    "    p = 0\n",
    "    i=len(array)-1\n",
    "    while i>=2:\n",
    "        a=array[i]\n",
    "        b=array[i-1]\n",
    "        c=array[i-2]\n",
    "        if a < b + c:\n",
    "            p = a + b + c\n",
    "            break\n",
    "        i-=1\n",
    "    return [a,b,c], p\n",
    "n=int(input())\n",
    "array=list()\n",
    "for i in range(n):\n",
    "        array.append(randint(1,30))\n",
    "print(array)\n",
    "print(maxTriangle(array))"
   ]
  },
  {
   "cell_type": "markdown",
   "id": "104124c7",
   "metadata": {},
   "source": [
    "Дан массив неотрицательных целых чисел nums. Расположите их в таком порядке, чтобы вместе они образовали максимально возможное число. Замечание: Результат может быть очень большим числом, поэтому представьте его как string, а не integer."
   ]
  },
  {
   "cell_type": "code",
   "execution_count": 2,
   "id": "a7bf8690",
   "metadata": {},
   "outputs": [
    {
     "name": "stdout",
     "output_type": "stream",
     "text": [
      "10 991 989 98 911 900 909 9 97 979 910 1 0 9 8 8\n",
      "999919899897997911910909900881100\n"
     ]
    }
   ],
   "source": [
    "def maxNumber():\n",
    "    data = input().strip().replace(\"  \", \" \").split(\" \")\n",
    "    data.sort(reverse=True)\n",
    "    res=\"\"\n",
    "    temp=[]\n",
    "    i=0\n",
    "    while i<len(data):\n",
    "        temp.append(data[i])\n",
    "        symbol=data[i][0]\n",
    "        if i==len(data)-1:\n",
    "            if len(temp[0])>1:\n",
    "                while len(temp[-1])==1:\n",
    "                    single=temp.pop(-1)\n",
    "                    temp.insert(0,single)\n",
    "            res+=\"\".join(temp)\n",
    "            break\n",
    "        if (symbol!=data[i+1][0]):\n",
    "            if len(temp[0])>1:\n",
    "                while len(temp[-1])==1:\n",
    "                    single=temp.pop(-1)\n",
    "                    temp.insert(0,single)\n",
    "            res+=\"\".join(temp)\n",
    "            temp=[]\n",
    "        i+=1\n",
    "    return res\n",
    "print(maxNumber())"
   ]
  },
  {
   "cell_type": "markdown",
   "id": "e168a574",
   "metadata": {},
   "source": [
    "Дана матрица mat размером m * n, значения ­ целочисленные. Напишите функцию, сортирующую диагональ матрицы по возрастанию и возвращающую получившуюся матрицу."
   ]
  },
  {
   "cell_type": "code",
   "execution_count": 3,
   "id": "348bf65a",
   "metadata": {},
   "outputs": [
    {
     "name": "stdout",
     "output_type": "stream",
     "text": [
      "5\n",
      "4\n",
      "10\n",
      "99\n",
      "Оригинальная матрица:\n",
      "27 45 64 20 \n",
      "75 63 58 76 \n",
      "38 99 29 16 \n",
      "28 69 50 42 \n",
      "33 39 49 56 \n",
      "Матрица с отсортированной диагональю:\n",
      "27 45 64 20 \n",
      "75 29 58 76 \n",
      "38 99 42 16 \n",
      "28 69 50 63 \n",
      "33 39 49 56 \n"
     ]
    }
   ],
   "source": [
    "from random import randint\n",
    "import copy\n",
    "def mgenerate():\n",
    "    m=int(input())\n",
    "    n=int(input())\n",
    "    min_limit=int(input())\n",
    "    max_limit=int(input())\n",
    "    mat=[]\n",
    "    for i in range (m):\n",
    "        array=list()\n",
    "        for j in range (n):\n",
    "            array.append (randint(min_limit,max_limit))\n",
    "        mat.append(array)\n",
    "    return mat\n",
    "def mprint(mat):\n",
    "    for i in range(len(mat)):\n",
    "        for j in range(len(mat[i])):\n",
    "            print(mat[i][j], end=' ')\n",
    "        print()\n",
    "def sort_diagonal(mat):\n",
    "    diagonal=[]\n",
    "    for i in range(len(mat)):\n",
    "        for j in range(len(mat[i])):\n",
    "            if i==j:\n",
    "                diagonal.append(mat[i][j])\n",
    "    diagonal.sort()\n",
    "    i=0\n",
    "    j=0\n",
    "    for k in range(len(diagonal)):\n",
    "        mat[i][j]=diagonal[k]\n",
    "        i+=1\n",
    "        j+=1\n",
    "    return mat\n",
    "mat=mgenerate()\n",
    "mat1=copy.deepcopy(mat)\n",
    "mat1=sort_diagonal(mat1)\n",
    "print(\"Оригинальная матрица:\")\n",
    "mprint(mat)\n",
    "print(\"Матрица с отсортированной диагональю:\")\n",
    "mprint(mat1)"
   ]
  },
  {
   "cell_type": "code",
   "execution_count": null,
   "id": "7f27caf9",
   "metadata": {},
   "outputs": [],
   "source": []
  }
 ],
 "metadata": {
  "kernelspec": {
   "display_name": "Python 3 (ipykernel)",
   "language": "python",
   "name": "python3"
  },
  "language_info": {
   "codemirror_mode": {
    "name": "ipython",
    "version": 3
   },
   "file_extension": ".py",
   "mimetype": "text/x-python",
   "name": "python",
   "nbconvert_exporter": "python",
   "pygments_lexer": "ipython3",
   "version": "3.9.7"
  }
 },
 "nbformat": 4,
 "nbformat_minor": 5
}
