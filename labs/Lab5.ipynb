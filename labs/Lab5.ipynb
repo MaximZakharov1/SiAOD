{
 "cells": [
  {
   "cell_type": "markdown",
   "metadata": {
    "id": "WPvB9TcMmKA6"
   },
   "source": [
    "# Лабораторная работа №5\n",
    "# Рекурсия. Фракталы."
   ]
  },
  {
   "cell_type": "markdown",
   "metadata": {
    "id": "96Gi_LEvmSVH"
   },
   "source": [
    "## Выполнил студент группы Захаров Максим Юрьевич БВТ2005\n",
    "***"
   ]
  },
  {
   "cell_type": "markdown",
   "metadata": {
    "id": "4clYOyb0mbEv"
   },
   "source": [
    "### Задание:\n",
    "Реализовать генерацию заданного типа фрактала с применением рекурсивных функций.\n",
    "\n",
    "\n",
    "Добавить возможность задания глубины фрактала. \n",
    "\n",
    "\n",
    "Оценить глубину рекурсии. \n",
    "\n",
    "\n",
    "Построить таблицу зависимости времени построения от глубины фрактала."
   ]
  },
  {
   "cell_type": "markdown",
   "metadata": {
    "id": "wDXHbUmMmhRL"
   },
   "source": [
    "### Список фракталов:\n",
    "\n",
    "Кривая Коха\n",
    "| Кривая Гильберта\n",
    "| Кривая Серпинского\n",
    "| Салфетка Серпинского\n",
    "| Ковер Серпинского\n",
    "| Дерево Пифагора "
   ]
  },
  {
   "cell_type": "markdown",
   "metadata": {
    "id": "Wggfn8l7nG72"
   },
   "source": [
    "### Выполнение:"
   ]
  },
  {
   "cell_type": "code",
   "execution_count": 1,
   "metadata": {},
   "outputs": [],
   "source": [
    "import turtle\n",
    "import time"
   ]
  },
  {
   "cell_type": "markdown",
   "metadata": {},
   "source": [
    "# Кривая Коха"
   ]
  },
  {
   "cell_type": "code",
   "execution_count": 3,
   "metadata": {},
   "outputs": [
    {
     "name": "stdout",
     "output_type": "stream",
     "text": [
      "Глубина 1: время - 19 ms \n",
      "Глубина 2: время - 72 ms \n",
      "Глубина 3: время - 295 ms \n",
      "Глубина 4: время - 1300 ms \n",
      "Глубина 5: время - 4638 ms \n"
     ]
    }
   ],
   "source": [
    "try:\n",
    "    turtle.reset()\n",
    "except:\n",
    "    pass\n",
    "rules = {\"+\" : \"+\", \"-\" : \"-\", \"F\" : \"F+F--F+F\"}\n",
    "\n",
    "\n",
    "def koh_line_decryption(n, axiom = \"F\"):\n",
    "    if n == 0:\n",
    "        return axiom\n",
    "    else:\n",
    "        temp = \"\"\n",
    "        for i in range(len(axiom)):\n",
    "            temp += rules[axiom[i]]\n",
    "        return koh_line_decryption(n - 1, temp)   \n",
    "\n",
    "    \n",
    "def draw_koh_line(n, length, t):\n",
    "    t.clear()\n",
    "    t.up()                 # черепашка воспаряет над поверхностью (чтобы не было следа)\n",
    "    t.seth(0)    # начальный угол поворота\n",
    "    t.setpos(-450,0)    # начальная стартовая позиция\n",
    "    t.down()\n",
    "    instruction = koh_line_decryption(n)\n",
    "    for el in instruction:\n",
    "        if el == \"+\":\n",
    "            t.lt(60)\n",
    "        elif el == \"-\":\n",
    "            t.rt(60)\n",
    "        else:\n",
    "            t.fd(length)\n",
    "    \n",
    "t = turtle.Turtle()\n",
    "t.pensize(2) # толщина линии рисования (в пикселах)\n",
    "t.clear()\n",
    "t.ht()\n",
    "turtle.tracer(1,0) # форсажный режим для черепашки\n",
    "for i in range(1, 6):\n",
    "    t1 = time.time()\n",
    "    draw_koh_line(i,250//(i*9),t)\n",
    "    t2 = round((time.time() - t1) * 1000)\n",
    "    print(f\"Глубина {i}: время - {t2} ms \")\n",
    "turtle.done()"
   ]
  },
  {
   "attachments": {
    "image.png": {
     "image/png": "[encoded data removed]"
    }
   },
   "cell_type": "markdown",
   "metadata": {},
   "source": [
    "![image.png](attachment:image.png)"
   ]
  },
  {
   "cell_type": "markdown",
   "metadata": {},
   "source": [
    "# Кривая Гильберта"
   ]
  },
  {
   "cell_type": "code",
   "execution_count": 4,
   "metadata": {},
   "outputs": [
    {
     "name": "stdout",
     "output_type": "stream",
     "text": [
      "Глубина 1: время - 33 ms \n",
      "Глубина 2: время - 126 ms \n",
      "Глубина 3: время - 497 ms \n",
      "Глубина 4: время - 2452 ms \n",
      "Глубина 5: время - 9031 ms \n"
     ]
    }
   ],
   "source": [
    "try:\n",
    "    turtle.reset()\n",
    "except:\n",
    "    pass\n",
    "rules = {\"+\" : \"+\", \"-\" : \"-\", \"X\" : \"-YF+XFX+FY-\", \"Y\" : \"+XF-YFY-FX+\", \"F\" : \"F\"}\n",
    "\n",
    "\n",
    "def gilbert_line_decryption(n, axiom = \"X\"):\n",
    "    if n == 0:\n",
    "        return axiom\n",
    "    else:\n",
    "        temp = \"\"\n",
    "        for i in range(len(axiom)):\n",
    "            temp += rules[axiom[i]]\n",
    "        return gilbert_line_decryption(n - 1, temp)   \n",
    "\n",
    "    \n",
    "def draw_gilbert_line(n, length, t):\n",
    "    t.clear()\n",
    "    t.up()                 \n",
    "    t.seth(0)    \n",
    "    t.setpos(-450,200)    \n",
    "    t.down()\n",
    "    instruction = gilbert_line_decryption(n)\n",
    "    for el in instruction:\n",
    "        if el == \"+\":\n",
    "            t.lt(90)\n",
    "        elif el == \"-\":\n",
    "            t.rt(90)\n",
    "        elif el == \"F\":\n",
    "            t.fd(length)\n",
    "        else:\n",
    "            pass\n",
    "    \n",
    "t = turtle.Turtle()\n",
    "t.pensize(2) \n",
    "t.clear()\n",
    "t.ht()\n",
    "turtle.tracer(1,0) \n",
    "for i in range(1, 6):\n",
    "    t1 = time.time()\n",
    "    draw_gilbert_line(i,300 // ((i * i) + 1),t)\n",
    "    t2 = round((time.time() - t1) * 1000)\n",
    "    print(f\"Глубина {i}: время - {t2} ms \")\n",
    "turtle.done()"
   ]
  },
  {
   "attachments": {
    "image.png": {
     "image/png": "[encoded data removed]"
    }
   },
   "cell_type": "markdown",
   "metadata": {},
   "source": [
    "![image.png](attachment:image.png)"
   ]
  },
  {
   "cell_type": "markdown",
   "metadata": {},
   "source": [
    "# Кривая Серпинского"
   ]
  },
  {
   "cell_type": "code",
   "execution_count": 5,
   "metadata": {},
   "outputs": [
    {
     "name": "stdout",
     "output_type": "stream",
     "text": [
      "Глубина 1: время - 91 ms \n",
      "Глубина 2: время - 446 ms \n",
      "Глубина 3: время - 2329 ms \n",
      "Глубина 4: время - 9682 ms \n",
      "Глубина 5: время - 42923 ms \n"
     ]
    }
   ],
   "source": [
    "try:\n",
    "    turtle.reset()\n",
    "except:\n",
    "    pass\n",
    "rules = {\"+\" : \"+\", \"-\" : \"-\", \"X\" : \"XF-F+F-XF+F+XF-F+F-X\", \"F\" : \"F\"}\n",
    "\n",
    "\n",
    "def serp_line_decryption(n, axiom = \"F+XF+F+XF\"):\n",
    "    if n == 0:\n",
    "        return axiom\n",
    "    else:\n",
    "        temp = \"\"\n",
    "        for i in range(len(axiom)):\n",
    "            temp += rules[axiom[i]]\n",
    "        return serp_line_decryption(n - 1, temp)   \n",
    "\n",
    "    \n",
    "def draw_serp_line(n, length, t):\n",
    "    t.clear()\n",
    "    t.up()                 \n",
    "    t.seth(0)    \n",
    "    t.setpos(0,-200)    \n",
    "    t.down()\n",
    "    instruction = serp_line_decryption(n)\n",
    "    for el in instruction:\n",
    "        if el == \"+\":\n",
    "            t.lt(90)\n",
    "        elif el == \"-\":\n",
    "            t.rt(90)\n",
    "        elif el == \"F\":\n",
    "            t.fd(length)\n",
    "        else:\n",
    "            pass\n",
    "    \n",
    "t = turtle.Turtle()\n",
    "t.pensize(2) \n",
    "t.clear()\n",
    "t.ht()\n",
    "turtle.tracer(1,0) \n",
    "for i in range(1, 6):\n",
    "    t1 = time.time()\n",
    "    draw_serp_line(i,8-i,t)\n",
    "    t2 = round((time.time() - t1) * 1000)\n",
    "    print(f\"Глубина {i}: время - {t2} ms \")\n",
    "turtle.done()"
   ]
  },
  {
   "attachments": {
    "image.png": {
     "image/png": "[encoded data removed]"
    }
   },
   "cell_type": "markdown",
   "metadata": {},
   "source": [
    "![image.png](attachment:image.png)"
   ]
  },
  {
   "cell_type": "markdown",
   "metadata": {},
   "source": [
    "# Салфетка Серпинского"
   ]
  },
  {
   "cell_type": "code",
   "execution_count": 12,
   "metadata": {},
   "outputs": [
    {
     "name": "stdout",
     "output_type": "stream",
     "text": [
      "Глубина 1: время - 64 ms \n",
      "Глубина 2: время - 257 ms \n",
      "Глубина 3: время - 727 ms \n",
      "Глубина 4: время - 2242 ms \n",
      "Глубина 5: время - 5666 ms \n"
     ]
    }
   ],
   "source": [
    "try:\n",
    "    turtle.reset()\n",
    "except:\n",
    "    pass\n",
    "rules = {\"+\" : \"+\", \"-\" : \"-\", \"X\" : \"--FXF++FXF++FXF--\", \"F\" : \"FF\"}\n",
    "\n",
    "\n",
    "def serp_triangle_decryption(n, axiom = \"FXF--FF--FF\"):\n",
    "    if n == 0:\n",
    "        return axiom\n",
    "    else:\n",
    "        temp = \"\"\n",
    "        for i in range(len(axiom)):\n",
    "            temp += rules[axiom[i]]\n",
    "        return serp_triangle_decryption(n - 1, temp)   \n",
    "\n",
    "    \n",
    "def draw_serp_triangle(n, length, t):\n",
    "    t.clear()\n",
    "    t.up()                 \n",
    "    t.seth(0)    \n",
    "    t.setpos(-200,300)    \n",
    "    t.down()\n",
    "    instruction = serp_triangle_decryption(n)\n",
    "    for el in instruction:\n",
    "        if el == \"+\":\n",
    "            t.lt(60)\n",
    "        elif el == \"-\":\n",
    "            t.rt(60)\n",
    "        elif el == \"F\":\n",
    "            t.fd(length)\n",
    "    \n",
    "t = turtle.Turtle()\n",
    "t.pensize(2) \n",
    "t.clear()\n",
    "t.ht()\n",
    "turtle.tracer(1,0) \n",
    "for i in range(1, 6):\n",
    "    t1 = time.time()\n",
    "    draw_serp_triangle(i,35-i*i,t)\n",
    "    t2 = round((time.time() - t1) * 1000)\n",
    "    print(f\"Глубина {i}: время - {t2} ms \")\n",
    "turtle.done()"
   ]
  },
  {
   "attachments": {
    "image.png": {
     "image/png": "[encoded data removed]"
    }
   },
   "cell_type": "markdown",
   "metadata": {},
   "source": [
    "![image.png](attachment:image.png)"
   ]
  },
  {
   "cell_type": "markdown",
   "metadata": {},
   "source": [
    "# Ковер Серпинского"
   ]
  },
  {
   "cell_type": "code",
   "execution_count": 7,
   "metadata": {},
   "outputs": [
    {
     "name": "stdout",
     "output_type": "stream",
     "text": [
      "Глубина 1: время - 1 ms \n",
      "Глубина 2: время - 6 ms \n",
      "Глубина 3: время - 44 ms \n",
      "Глубина 4: время - 231 ms \n",
      "Глубина 5: время - 1664 ms \n"
     ]
    }
   ],
   "source": [
    "try:\n",
    "    turtle.reset()\n",
    "except:\n",
    "    pass\n",
    "rules = {\"+\" : \"+\", \"-\" : \"-\", \"X\" : \"XFXFX-F+X-F+X--F--X--F--X+F-X+F-\", \"F\" : \"FFF\"}\n",
    "\n",
    "\n",
    "def serp_carpet_decryption(n, axiom = \"X\"):\n",
    "    if n == 0:\n",
    "        return axiom\n",
    "    else:\n",
    "        temp = \"\"\n",
    "        for i in range(len(axiom)):\n",
    "            temp += rules[axiom[i]]\n",
    "        return serp_carpet_decryption(n - 1, temp)   \n",
    "\n",
    "    \n",
    "def draw_serp_carpet(n, length, t):\n",
    "    t.clear()\n",
    "    t.up()                 \n",
    "    t.seth(0)    \n",
    "    t.setpos(-400,390)    \n",
    "    t.down()\n",
    "    instruction = serp_carpet_decryption(n)\n",
    "    for el in instruction:\n",
    "        if el == \"+\":\n",
    "            t.lt(90)\n",
    "        elif el == \"-\":\n",
    "            t.rt(90)\n",
    "        elif el == \"F\":\n",
    "            t.fd(length)\n",
    "    \n",
    "t = turtle.Turtle()\n",
    "t.clear()\n",
    "t.ht()\n",
    "turtle.tracer(0) \n",
    "t.pencolor('blue')\n",
    "for i in range(1, 6):\n",
    "    t.pensize(27 - (i * i))\n",
    "    t1 = time.time()\n",
    "    draw_serp_carpet(i,27-i*i,t)\n",
    "    t2 = round((time.time() - t1) * 1000)\n",
    "    time.sleep(1)\n",
    "    turtle.update()\n",
    "    print(f\"Глубина {i}: время - {t2} ms \")\n",
    "turtle.done()"
   ]
  },
  {
   "attachments": {
    "image.png": {
     "image/png": "[encoded data removed]"
    }
   },
   "cell_type": "markdown",
   "metadata": {},
   "source": [
    "![image.png](attachment:image.png)"
   ]
  },
  {
   "cell_type": "markdown",
   "metadata": {},
   "source": [
    "# Дерево Пифагора"
   ]
  },
  {
   "cell_type": "code",
   "execution_count": 9,
   "metadata": {},
   "outputs": [
    {
     "name": "stdout",
     "output_type": "stream",
     "text": [
      "Глубина 1: время - 0 ms \n",
      "Глубина 2: время - 2 ms \n",
      "Глубина 3: время - 2 ms \n",
      "Глубина 4: время - 9 ms \n",
      "Глубина 5: время - 23 ms \n"
     ]
    }
   ],
   "source": [
    "try:\n",
    "    turtle.reset()\n",
    "except:\n",
    "    pass\n",
    "rules = {\"[\" : \"[\", \"]\" : \"]\", \"0\" : \"1[0]0\", \"1\" : \"11\"}\n",
    "\n",
    "\n",
    "def pythagoras_tree_decryption(n, axiom = \"0\"):\n",
    "    if n == 0:\n",
    "        return axiom\n",
    "    else:\n",
    "        temp = \"\"\n",
    "        for i in range(len(axiom)):\n",
    "            temp += rules[axiom[i]]\n",
    "        return pythagoras_tree_decryption(n - 1, temp)   \n",
    "\n",
    "    \n",
    "def draw_pythagoras_tree(n, length, t):\n",
    "    t.clear()\n",
    "    t.up()  \n",
    "    t.seth(90)\n",
    "    t.setpos(0,-300)    \n",
    "    t.down()\n",
    "    stack = list()\n",
    "    instruction = pythagoras_tree_decryption(n)\n",
    "    for el in instruction:\n",
    "        if el == \"[\":\n",
    "            stack.append(t.pos())\n",
    "            stack.append(t.heading())\n",
    "            t.lt(45)\n",
    "        elif el == \"]\":\n",
    "            t.up()\n",
    "            t.setheading(stack.pop())\n",
    "            t.setpos(stack.pop())\n",
    "            t.down()\n",
    "            t.rt(45)\n",
    "        else:\n",
    "            t.fd(length)\n",
    "    \n",
    "t = turtle.Turtle()\n",
    "t.clear()\n",
    "t.ht()\n",
    "turtle.tracer(0) \n",
    "t.pensize(2)\n",
    "for i in range(1,6):\n",
    "    t.setheading(90)\n",
    "    t1 = time.time()\n",
    "    draw_pythagoras_tree(i,15,t)\n",
    "    t2 = round((time.time() - t1) * 1000)\n",
    "    time.sleep(1)\n",
    "    turtle.update()\n",
    "    print(f\"Глубина {i}: время - {t2} ms \")\n",
    "turtle.done()"
   ]
  },
  {
   "attachments": {
    "image.png": {
     "image/png": "[encoded data removed]"
    }
   },
   "cell_type": "markdown",
   "metadata": {},
   "source": [
    "![image.png](attachment:image.png)"
   ]
  }
 ],
 "metadata": {
  "colab": {
   "collapsed_sections": [],
   "name": "Lab5.ipynb",
   "provenance": []
  },
  "kernelspec": {
   "display_name": "Python 3 (ipykernel)",
   "language": "python",
   "name": "python3"
  },
  "language_info": {
   "codemirror_mode": {
    "name": "ipython",
    "version": 3
   },
   "file_extension": ".py",
   "mimetype": "text/x-python",
   "name": "python",
   "nbconvert_exporter": "python",
   "pygments_lexer": "ipython3",
   "version": "3.9.7"
  }
 },
 "nbformat": 4,
 "nbformat_minor": 1
}
