{
 "cells": [
  {
   "cell_type": "markdown",
   "id": "1bcbd8d7",
   "metadata": {},
   "source": [
    "# Группа БВТ2005, Захаров М.Ю."
   ]
  },
  {
   "cell_type": "markdown",
   "id": "6a7b146a",
   "metadata": {},
   "source": [
    "Массив A состоит из целых положительных чисел - длин отрезков. Составьте из трех отрезков такой треугольник, чтобы его периметр был максимально возможным. Если невозможно составить треугольник с положительной площадью - функция возвращает 0."
   ]
  },
  {
   "cell_type": "code",
   "execution_count": 9,
   "id": "67c07eaa",
   "metadata": {},
   "outputs": [
    {
     "name": "stdout",
     "output_type": "stream",
     "text": [
      "5\n",
      "[9, 24, 24, 21, 14]\n",
      "[24, 24, 21]\n"
     ]
    }
   ],
   "source": [
    "from random import randint\n",
    "def maxTriangle(array): \n",
    "    array.sort()\n",
    "    p = 0\n",
    "    i=len(array)-1\n",
    "    while i>=2:\n",
    "        a=array[i]\n",
    "        b=array[i-1]\n",
    "        c=array[i-2]\n",
    "        if a < b + c:\n",
    "            p = a + b + c\n",
    "            break\n",
    "        i-=1\n",
    "    return [a,b,c]\n",
    "n=int(input())\n",
    "array=list()\n",
    "for i in range(n):\n",
    "        array.append(randint(1,30))\n",
    "print(array)\n",
    "print(maxTriangle(array))"
   ]
  },
  {
   "cell_type": "markdown",
   "id": "104124c7",
   "metadata": {},
   "source": [
    "Дан массив неотрицательных целых чисел nums. Расположите их в таком порядке, чтобы вместе они образовали максимально возможное число. Замечание: Результат может быть очень большим числом, поэтому представьте его как string, а не integer."
   ]
  },
  {
   "cell_type": "code",
   "execution_count": 5,
   "id": "a7bf8690",
   "metadata": {},
   "outputs": [
    {
     "name": "stdout",
     "output_type": "stream",
     "text": [
      "2\n",
      "gjj\n"
     ]
    }
   ],
   "source": [
    "from random import randint\n",
    "n=int(input())\n",
    "array=list()\n",
    "for i in range(n):\n",
    "    array.append(randint(1,100))\n",
    "maxl=0\n",
    "for i in range(n):\n",
    "    if len(str(array[i]))>maxl:\n",
    "        maxl=len(str(array[i]))\n",
    "l=1\n",
    "ans=''\n",
    "while l<=maxl:\n",
    "    for i in range (9,1):\n",
    "            for j in range(n):\n",
    "                s=str(array[j])\n",
    "    \n",
    "print(ans)"
   ]
  },
  {
   "cell_type": "code",
   "execution_count": null,
   "id": "7b273808",
   "metadata": {},
   "outputs": [],
   "source": []
  }
 ],
 "metadata": {
  "kernelspec": {
   "display_name": "Python 3 (ipykernel)",
   "language": "python",
   "name": "python3"
  },
  "language_info": {
   "codemirror_mode": {
    "name": "ipython",
    "version": 3
   },
   "file_extension": ".py",
   "mimetype": "text/x-python",
   "name": "python",
   "nbconvert_exporter": "python",
   "pygments_lexer": "ipython3",
   "version": "3.9.7"
  }
 },
 "nbformat": 4,
 "nbformat_minor": 5
}
