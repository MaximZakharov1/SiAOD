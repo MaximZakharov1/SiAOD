{
 "cells": [
  {
   "cell_type": "markdown",
   "id": "fifteen-sailing",
   "metadata": {},
   "source": [
    "# Лабораторная работа №1\n",
    "## Выполнил студент группы БВТ2005, Захаров М.Ю."
   ]
  },
  {
   "cell_type": "markdown",
   "id": "particular-syndicate",
   "metadata": {},
   "source": [
    "### Оглавление\n",
    "1. [Задание 1](#Задание-№1)\n",
    "2. [Задание 2](#Задание-№2)\n",
    "3. [Задание 3](#Задание-№3)\n",
    "4. [Вывод](#Вывод)"
   ]
  },
  {
   "cell_type": "markdown",
   "id": "arctic-stocks",
   "metadata": {},
   "source": [
    "### Задание №1\n",
    "<i> Вызвать функцию print() и передать туда строку Hello, World! </i>"
   ]
  },
  {
   "cell_type": "code",
   "execution_count": 3,
   "id": "caring-truck",
   "metadata": {
    "collapsed": true
   },
   "outputs": [
    {
     "name": "stdout",
     "output_type": "stream",
     "text": [
      "Hello, World!\n"
     ]
    }
   ],
   "source": [
    "print('Hello, World!')"
   ]
  },
  {
   "cell_type": "markdown",
   "id": "maritime-conversation",
   "metadata": {},
   "source": [
    "### Задание №2\n",
    "Написать генератор случайных матриц(многомерных), который принимает\n",
    "опциональные параметры <b>m</b>, <b>n</b>, <b>min_limit</b>, <b>max_limit</b>, где <b>m</b> и <b>n</b> указывают размер\n",
    "матрицы, а <b>min_lim</b> и <b>max_lim</b> - минимальное и максимальное значение для\n",
    "генерируемого числа."
   ]
  },
  {
   "cell_type": "code",
   "execution_count": 20,
   "id": "built-contact",
   "metadata": {},
   "outputs": [],
   "source": [
    "import random\n",
    "import time"
   ]
  },
  {
   "cell_type": "code",
   "execution_count": 70,
   "id": "alert-charm",
   "metadata": {},
   "outputs": [
    {
     "name": "stdout",
     "output_type": "stream",
     "text": [
      "5\n",
      "5\n",
      "1\n",
      "9\n",
      "4 7 5 9 5 \n",
      "2 5 1 7 4 \n",
      "6 2 2 3 6 \n",
      "7 9 5 3 3 \n",
      "6 5 7 4 3 \n"
     ]
    }
   ],
   "source": [
    "def mgenerate():\n",
    "    user_m=int(input())\n",
    "    user_n=int(input())\n",
    "    user_min_limit=int(input())\n",
    "    user_max_limit=int(input())\n",
    "    mat=[]\n",
    "    for i in range (user_m):\n",
    "        array=list()\n",
    "        for j in range (user_n):\n",
    "            array.append (randint(user_min_limit,user_max_limit))\n",
    "        mat.append(array)\n",
    "    return mat\n",
    "def mprint(mat):\n",
    "    for i in range(0, len(mat)):\n",
    "        for j in range(0, len(mat[i])):\n",
    "            print(mat[i][j], end=' ')\n",
    "        print()\n",
    "mat=mgenerate()\n",
    "mprint(mat)\n",
    "\n"
   ]
  },
  {
   "cell_type": "markdown",
   "id": "catholic-roots",
   "metadata": {},
   "source": [
    "### Задание №3\n",
    "Реализовать методы сортировки строк числовой матрицы в соответствии с\n",
    "заданием. Оценить время работы каждого алгоритма сортировки и сравнить его со\n",
    "временем стандартной функции сортировки. Испытания проводить на сгенерированных\n",
    "матрицах."
   ]
  },
  {
   "cell_type": "code",
   "execution_count": 27,
   "id": "opposed-creature",
   "metadata": {},
   "outputs": [],
   "source": [
    "import copy"
   ]
  },
  {
   "cell_type": "code",
   "execution_count": 71,
   "id": "cleared-anniversary",
   "metadata": {},
   "outputs": [
    {
     "name": "stdout",
     "output_type": "stream",
     "text": [
      "4 5 5 7 9 \n",
      "1 2 4 5 7 \n",
      "2 2 3 6 6 \n",
      "3 3 7 9 9 \n",
      "3 6 6 6 7 \n",
      "--- 2 ms ---\n"
     ]
    }
   ],
   "source": [
    "# Сортировка выбором.\n",
    "# Берётся срез массива, в котором минимальный элемент переносят в самый левый угол,\n",
    "# после чего срез уменьшается и цикл повторяется.\n",
    "start_time = time.time()\n",
    "#TODO\n",
    "def sort_select(line):\n",
    "    for i in range (len(line)):\n",
    "        a=line[i]\n",
    "        for j in range (i+1,len(line)):\n",
    "            if line[j]<line[i]:\n",
    "                line[i]=line[j]\n",
    "                line[j]=a\n",
    "for line in mat:\n",
    "    line=sort_select(line)\n",
    "mprint(mat)\n",
    "print(\"--- {0} ms ---\".format(round((time.time() - start_time)*1000)))"
   ]
  },
  {
   "cell_type": "code",
   "execution_count": 73,
   "id": "roman-silly",
   "metadata": {
    "scrolled": true
   },
   "outputs": [
    {
     "name": "stdout",
     "output_type": "stream",
     "text": [
      "4 5 5 7 9 \n",
      "1 2 4 5 7 \n",
      "2 2 3 6 6 \n",
      "3 3 7 9 9 \n",
      "3 6 6 6 7 \n",
      "--- 2 ms ---\n"
     ]
    }
   ],
   "source": [
    "# Сортировка вставкой.\n",
    "# На каждой итерации программа берет один из элементов и подыскивает для него место в уже отсортированном списке.\n",
    "start_time = time.time()\n",
    "#TODO\n",
    "def sort_paste(line):\n",
    "    for i in range(len(line)):\n",
    "        a = line[i]\n",
    "        pos = i\n",
    "        \n",
    "        while pos > 0 and line[pos - 1] > a:\n",
    "            line[pos] = line[pos - 1]\n",
    "            pos = pos - 1\n",
    "        line[pos] = a\n",
    "    return line\n",
    "for line in mat:\n",
    "    line=sort_paste(line)\n",
    "mprint(mat)\n",
    "print(\"--- {0} ms ---\".format(round((time.time() - start_time)*1000)))"
   ]
  },
  {
   "cell_type": "code",
   "execution_count": 74,
   "id": "vital-implementation",
   "metadata": {},
   "outputs": [
    {
     "name": "stdout",
     "output_type": "stream",
     "text": [
      "4 5 5 7 9 \n",
      "1 2 4 5 7 \n",
      "2 2 3 6 6 \n",
      "3 3 7 9 9 \n",
      "3 6 6 6 7 \n",
      "--- 3 ms ---\n"
     ]
    }
   ],
   "source": [
    "# Сортировка обменом. || Сортировка пузырьком.\n",
    "# При этом подходе осуществляется перебор по списку и сравнение соседних элементов. \n",
    "# Они меняются местами в том случае, если порядок неправильный.\n",
    "start_time = time.time()\n",
    "#TODO\n",
    "def sort_trade(line):\n",
    "    for i in range(0,len(line)-1):\n",
    "        a = line[i]\n",
    "        if line[i]>line[i+1]:\n",
    "            line[i] = line[i+1]\n",
    "            line[i+1] = a\n",
    "    return line\n",
    "for line in mat:\n",
    "    line=sort_trade(line)\n",
    "mprint(mat)\n",
    "print(\"--- {0} ms ---\".format(round((time.time() - start_time)*1000)))"
   ]
  },
  {
   "cell_type": "code",
   "execution_count": 7,
   "id": "veterinary-glory",
   "metadata": {},
   "outputs": [
    {
     "name": "stdout",
     "output_type": "stream",
     "text": [
      "--- 0 ms ---\n"
     ]
    }
   ],
   "source": [
    "# Сортировка Шелла.\n",
    "start_time = time.time()\n",
    "#TODO\n",
    "print(\"--- {0} ms ---\".format(round((time.time() - start_time)*1000)))"
   ]
  },
  {
   "cell_type": "code",
   "execution_count": 8,
   "id": "correct-chaos",
   "metadata": {},
   "outputs": [
    {
     "name": "stdout",
     "output_type": "stream",
     "text": [
      "--- 1 ms ---\n"
     ]
    }
   ],
   "source": [
    "# Быстрая сортировка.\n",
    "start_time = time.time()\n",
    "#TODO\n",
    "print(\"--- {0} ms ---\".format(round((time.time() - start_time)*1000)))\n",
    "    "
   ]
  },
  {
   "cell_type": "code",
   "execution_count": 9,
   "id": "french-czech",
   "metadata": {},
   "outputs": [
    {
     "name": "stdout",
     "output_type": "stream",
     "text": [
      "--- 0 ms ---\n"
     ]
    }
   ],
   "source": [
    "# Турнирная сортировка.\n",
    "start_time = time.time()\n",
    "#TODO\n",
    "print(\"--- {0} ms ---\".format(round((time.time() - start_time)*1000)))"
   ]
  },
  {
   "cell_type": "markdown",
   "id": "rental-jerusalem",
   "metadata": {},
   "source": [
    "### Вывод\n"
   ]
  },
  {
   "cell_type": "code",
   "execution_count": null,
   "id": "19e7f6a9",
   "metadata": {},
   "outputs": [],
   "source": []
  }
 ],
 "metadata": {
  "kernelspec": {
   "display_name": "Python 3 (ipykernel)",
   "language": "python",
   "name": "python3"
  },
  "language_info": {
   "codemirror_mode": {
    "name": "ipython",
    "version": 3
   },
   "file_extension": ".py",
   "mimetype": "text/x-python",
   "name": "python",
   "nbconvert_exporter": "python",
   "pygments_lexer": "ipython3",
   "version": "3.9.7"
  }
 },
 "nbformat": 4,
 "nbformat_minor": 5
}
